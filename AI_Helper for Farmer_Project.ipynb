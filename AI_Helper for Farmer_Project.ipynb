{
  "cells": [
    {
      "cell_type": "code",
      "execution_count": null,
      "metadata": {
        "colab": {
          "background_save": true,
          "base_uri": "https://localhost:8080/"
        },
        "id": "H9x8rUtmKMDq",
        "outputId": "42228e91-fcba-4d23-f96c-f2a82c9015b1"
      },
      "outputs": [
        {
          "name": "stdout",
          "output_type": "stream",
          "text": [
            "Cloning into 'PlantVillage-Dataset'...\n",
            "remote: Enumerating objects: 163235, done.\u001b[K\n",
            "remote: Counting objects: 100% (6/6), done.\u001b[K\n",
            "remote: Compressing objects: 100% (6/6), done.\u001b[K\n",
            "remote: Total 163235 (delta 2), reused 1 (delta 0), pack-reused 163229 (from 1)\u001b[K\n",
            "Receiving objects: 100% (163235/163235), 2.00 GiB | 28.32 MiB/s, done.\n",
            "Resolving deltas: 100% (101/101), done.\n",
            "Updating files: 100% (182401/182401), done.\n"
          ]
        }
      ],
      "source": [
        "!git clone https://github.com/spMohanty/PlantVillage-Dataset.git\n"
      ]
    },
    {
      "cell_type": "code",
      "execution_count": null,
      "metadata": {
        "colab": {
          "base_uri": "https://localhost:8080/"
        },
        "id": "Jknw5tp7QIT2",
        "outputId": "6207a98a-d9c1-4001-928a-d1eab77cff37"
      },
      "outputs": [
        {
          "name": "stdout",
          "output_type": "stream",
          "text": [
            "✅ Only Tomato classes copied successfully!\n"
          ]
        }
      ],
      "source": [
        "import os\n",
        "import shutil\n",
        "\n",
        "source_path = \"/content/PlantVillage-Dataset/raw/color\"\n",
        "target_path = \"/content/tomato_only\"\n",
        "\n",
        "os.makedirs(target_path, exist_ok=True)\n",
        "\n",
        "for folder in os.listdir(source_path):\n",
        "    if folder.startswith(\"Tomato___\"):\n",
        "        shutil.copytree(os.path.join(source_path, folder),\n",
        "                        os.path.join(target_path, folder))\n",
        "\n",
        "print(\"✅ Only Tomato classes copied successfully!\")\n"
      ]
    },
    {
      "cell_type": "code",
      "execution_count": null,
      "metadata": {
        "colab": {
          "base_uri": "https://localhost:8080/"
        },
        "id": "vJQugWFuQINn",
        "outputId": "fccec147-f377-463b-8373-620319342e07"
      },
      "outputs": [
        {
          "name": "stdout",
          "output_type": "stream",
          "text": [
            "✅ Created small tomato dataset (300 images per class)\n"
          ]
        }
      ],
      "source": [
        "import os\n",
        "import random\n",
        "import shutil\n",
        "\n",
        "source = \"/content/PlantVillage-Dataset/raw/color\"\n",
        "target = \"/content/tomato_small\"\n",
        "\n",
        "os.makedirs(target, exist_ok=True)\n",
        "\n",
        "for folder in os.listdir(source):\n",
        "    if folder.startswith(\"Tomato___\"):\n",
        "        full_folder_path = os.path.join(source, folder)\n",
        "        selected_images = random.sample(os.listdir(full_folder_path), 300)\n",
        "\n",
        "        new_folder = os.path.join(target, folder)\n",
        "        os.makedirs(new_folder, exist_ok=True)\n",
        "\n",
        "        for img in selected_images:\n",
        "            shutil.copy(os.path.join(full_folder_path, img), os.path.join(new_folder, img))\n",
        "\n",
        "print(\"✅ Created small tomato dataset (300 images per class)\")\n"
      ]
    },
    {
      "cell_type": "code",
      "execution_count": null,
      "metadata": {
        "colab": {
          "base_uri": "https://localhost:8080/"
        },
        "id": "HnI__mZhQIKu",
        "outputId": "fb2e2e8f-12dd-4042-aa89-465bef1c8e64"
      },
      "outputs": [
        {
          "name": "stdout",
          "output_type": "stream",
          "text": [
            "Found 2400 images belonging to 10 classes.\n",
            "Found 600 images belonging to 10 classes.\n"
          ]
        },
        {
          "name": "stderr",
          "output_type": "stream",
          "text": [
            "/usr/local/lib/python3.11/dist-packages/keras/src/layers/convolutional/base_conv.py:107: UserWarning: Do not pass an `input_shape`/`input_dim` argument to a layer. When using Sequential models, prefer using an `Input(shape)` object as the first layer in the model instead.\n",
            "  super().__init__(activity_regularizer=activity_regularizer, **kwargs)\n",
            "/usr/local/lib/python3.11/dist-packages/keras/src/trainers/data_adapters/py_dataset_adapter.py:121: UserWarning: Your `PyDataset` class should call `super().__init__(**kwargs)` in its constructor. `**kwargs` can include `workers`, `use_multiprocessing`, `max_queue_size`. Do not pass these arguments to `fit()`, as they will be ignored.\n",
            "  self._warn_if_super_not_called()\n"
          ]
        },
        {
          "name": "stdout",
          "output_type": "stream",
          "text": [
            "Epoch 1/10\n",
            "\u001b[1m75/75\u001b[0m \u001b[32m━━━━━━━━━━━━━━━━━━━━\u001b[0m\u001b[37m\u001b[0m \u001b[1m255s\u001b[0m 3s/step - accuracy: 0.1435 - loss: 2.2710 - val_accuracy: 0.3350 - val_loss: 1.9144\n",
            "Epoch 2/10\n",
            "\u001b[1m75/75\u001b[0m \u001b[32m━━━━━━━━━━━━━━━━━━━━\u001b[0m\u001b[37m\u001b[0m \u001b[1m249s\u001b[0m 3s/step - accuracy: 0.4153 - loss: 1.7905 - val_accuracy: 0.6067 - val_loss: 1.3943\n",
            "Epoch 3/10\n",
            "\u001b[1m75/75\u001b[0m \u001b[32m━━━━━━━━━━━━━━━━━━━━\u001b[0m\u001b[37m\u001b[0m \u001b[1m277s\u001b[0m 4s/step - accuracy: 0.5560 - loss: 1.3482 - val_accuracy: 0.6400 - val_loss: 1.1156\n",
            "Epoch 4/10\n",
            "\u001b[1m75/75\u001b[0m \u001b[32m━━━━━━━━━━━━━━━━━━━━\u001b[0m\u001b[37m\u001b[0m \u001b[1m256s\u001b[0m 3s/step - accuracy: 0.6209 - loss: 1.1190 - val_accuracy: 0.6767 - val_loss: 1.0213\n",
            "Epoch 5/10\n",
            "\u001b[1m75/75\u001b[0m \u001b[32m━━━━━━━━━━━━━━━━━━━━\u001b[0m\u001b[37m\u001b[0m \u001b[1m266s\u001b[0m 3s/step - accuracy: 0.6886 - loss: 0.9753 - val_accuracy: 0.7017 - val_loss: 0.9357\n",
            "Epoch 6/10\n",
            "\u001b[1m75/75\u001b[0m \u001b[32m━━━━━━━━━━━━━━━━━━━━\u001b[0m\u001b[37m\u001b[0m \u001b[1m253s\u001b[0m 3s/step - accuracy: 0.7181 - loss: 0.8817 - val_accuracy: 0.7033 - val_loss: 0.9346\n",
            "Epoch 7/10\n",
            "\u001b[1m75/75\u001b[0m \u001b[32m━━━━━━━━━━━━━━━━━━━━\u001b[0m\u001b[37m\u001b[0m \u001b[1m260s\u001b[0m 3s/step - accuracy: 0.7561 - loss: 0.7777 - val_accuracy: 0.7150 - val_loss: 0.8469\n",
            "Epoch 8/10\n",
            "\u001b[1m75/75\u001b[0m \u001b[32m━━━━━━━━━━━━━━━━━━━━\u001b[0m\u001b[37m\u001b[0m \u001b[1m258s\u001b[0m 3s/step - accuracy: 0.7766 - loss: 0.6946 - val_accuracy: 0.7283 - val_loss: 0.8121\n",
            "Epoch 9/10\n",
            "\u001b[1m75/75\u001b[0m \u001b[32m━━━━━━━━━━━━━━━━━━━━\u001b[0m\u001b[37m\u001b[0m \u001b[1m254s\u001b[0m 3s/step - accuracy: 0.7757 - loss: 0.6449 - val_accuracy: 0.7433 - val_loss: 0.7597\n",
            "Epoch 10/10\n",
            "\u001b[1m75/75\u001b[0m \u001b[32m━━━━━━━━━━━━━━━━━━━━\u001b[0m\u001b[37m\u001b[0m \u001b[1m272s\u001b[0m 4s/step - accuracy: 0.8317 - loss: 0.5537 - val_accuracy: 0.7633 - val_loss: 0.7284\n"
          ]
        }
      ],
      "source": [
        "import numpy as np\n",
        "import matplotlib.pyplot as plt\n",
        "from tensorflow.keras.preprocessing.image import ImageDataGenerator\n",
        "from tensorflow.keras.models import Sequential\n",
        "from tensorflow.keras.layers import Conv2D, MaxPooling2D, Dropout, Flatten, Dense\n",
        "from tensorflow.keras.optimizers import Adam\n",
        "\n",
        "# Use only tomato data\n",
        "data_path = \"/content/tomato_small\"\n",
        "\n",
        "# Preprocessing\n",
        "datagen = ImageDataGenerator(rescale=1./255, validation_split=0.2)\n",
        "\n",
        "train_data = datagen.flow_from_directory(\n",
        "    data_path,\n",
        "    target_size=(224, 224),\n",
        "    batch_size=32,\n",
        "    class_mode='categorical',\n",
        "    subset='training'\n",
        ")\n",
        "\n",
        "val_data = datagen.flow_from_directory(\n",
        "    data_path,\n",
        "    target_size=(224, 224),\n",
        "    batch_size=32,\n",
        "    class_mode='categorical',\n",
        "    subset='validation'\n",
        ")\n",
        "\n",
        "# Build CNN Model\n",
        "model = Sequential([\n",
        "    Conv2D(32, (3,3), activation='relu', input_shape=(224,224,3)),\n",
        "    MaxPooling2D(2,2),\n",
        "    Conv2D(64, (3,3), activation='relu'),\n",
        "    MaxPooling2D(2,2),\n",
        "    Conv2D(128, (3,3), activation='relu'),\n",
        "    MaxPooling2D(2,2),\n",
        "    Dropout(0.3),\n",
        "    Flatten(),\n",
        "    Dense(128, activation='relu'),\n",
        "    Dropout(0.3),\n",
        "    Dense(train_data.num_classes, activation='softmax')\n",
        "])\n",
        "\n",
        "model.compile(optimizer=Adam(0.0001),\n",
        "              loss='categorical_crossentropy',\n",
        "              metrics=['accuracy'])\n",
        "\n",
        "# Train the model\n",
        "history = model.fit(train_data, epochs=10, validation_data=val_data)\n"
      ]
    },
    {
      "cell_type": "code",
      "execution_count": null,
      "metadata": {
        "colab": {
          "base_uri": "https://localhost:8080/"
        },
        "id": "POj0niWWzR_s",
        "outputId": "451696d8-cbc4-45dd-c626-aa8211c06dc1"
      },
      "outputs": [
        {
          "name": "stderr",
          "output_type": "stream",
          "text": [
            "WARNING:absl:You are saving your model as an HDF5 file via `model.save()` or `keras.saving.save_model(model)`. This file format is considered legacy. We recommend using instead the native Keras format, e.g. `model.save('my_model.keras')` or `keras.saving.save_model(model, 'my_model.keras')`. \n"
          ]
        },
        {
          "name": "stdout",
          "output_type": "stream",
          "text": [
            "✅ Model saved successfully!\n"
          ]
        }
      ],
      "source": [
        "model.save(\"tomato_leaf_model.h5\")\n",
        "print(\"✅ Model saved successfully!\")"
      ]
    },
    {
      "cell_type": "code",
      "execution_count": null,
      "metadata": {
        "colab": {
          "base_uri": "https://localhost:8080/"
        },
        "id": "_96J1MezQIIF",
        "outputId": "6151e098-3612-4d0b-fcb2-8531deae1f30"
      },
      "outputs": [
        {
          "name": "stderr",
          "output_type": "stream",
          "text": [
            "WARNING:absl:Compiled the loaded model, but the compiled metrics have yet to be built. `model.compile_metrics` will be empty until you train or evaluate the model.\n"
          ]
        },
        {
          "name": "stdout",
          "output_type": "stream",
          "text": [
            "✅ Model Loaded. Classes: ['Tomato___Bacterial_spot', 'Tomato___Early_blight', 'Tomato___Late_blight', 'Tomato___Leaf_Mold', 'Tomato___Septoria_leaf_spot', 'Tomato___Spider_mites Two-spotted_spider_mite', 'Tomato___Target_Spot', 'Tomato___Tomato_Yellow_Leaf_Curl_Virus', 'Tomato___Tomato_mosaic_virus', 'Tomato___healthy']\n"
          ]
        }
      ],
      "source": [
        "from tensorflow.keras.models import load_model\n",
        "import numpy as np\n",
        "from tensorflow.keras.preprocessing import image\n",
        "\n",
        "# Load the trained model\n",
        "model = load_model(\"tomato_leaf_model.h5\")\n",
        "\n",
        "# Get class names from the data generator\n",
        "class_names = list(train_data.class_indices.keys())\n",
        "print(\"✅ Model Loaded. Classes:\", class_names)\n"
      ]
    },
    {
      "cell_type": "code",
      "execution_count": null,
      "metadata": {
        "colab": {
          "base_uri": "https://localhost:8080/",
          "height": 1000
        },
        "id": "qfXexdWqUPva",
        "outputId": "db3359c5-be9b-49a7-d331-0448eb0c7afb"
      },
      "outputs": [],
      "source": [
        "import os\n",
        "import random\n",
        "from tensorflow.keras.preprocessing import image\n",
        "import numpy as np\n",
        "import matplotlib.pyplot as plt\n",
        "\n",
        "# Load trained model (only if not loaded already)\n",
        "from tensorflow.keras.models import load_model\n",
        "model = load_model(\"tomato_leaf_model.h5\")\n",
        "\n",
        "# Get class names (ensure this matches training order)\n",
        "class_names = list(train_data.class_indices.keys())\n",
        "\n",
        "# Path to your dataset folders\n",
        "test_base = \"/content/tomato_only\"  # Or 'tomato_small' if you used fewer images\n",
        "\n",
        "# Function to predict one image\n",
        "def predict_image(img_path):\n",
        "    img = image.load_img(img_path, target_size=(224, 224))\n",
        "    img_array = image.img_to_array(img) / 255.0\n",
        "    img_array = np.expand_dims(img_array, axis=0)\n",
        "\n",
        "    prediction = model.predict(img_array)\n",
        "    class_index = np.argmax(prediction)\n",
        "    predicted_class = class_names[class_index]\n",
        "    confidence = prediction[0][class_index]\n",
        "\n",
        "    return predicted_class, confidence, img\n",
        "\n",
        "# Predict 5 images from each folder\n",
        "for category in os.listdir(test_base):\n",
        "    category_path = os.path.join(test_base, category)\n",
        "\n",
        "    if not os.path.isdir(category_path):\n",
        "        continue  # Skip if it's not a folder\n",
        "\n",
        "    image_files = [f for f in os.listdir(category_path) if f.lower().endswith(('jpg', 'jpeg', 'png'))]\n",
        "\n",
        "    if len(image_files) < 5:\n",
        "        continue  # Skip small folders\n",
        "\n",
        "    sample_images = random.sample(image_files, 5)\n",
        "\n",
        "    print(f\"\\n🔍 Actual Category: {category}\")\n",
        "    plt.figure(figsize=(15, 5))\n",
        "\n",
        "    for i, image_name in enumerate(sample_images):\n",
        "        img_path = os.path.join(category_path, image_name)\n",
        "        predicted_class, confidence, img = predict_image(img_path)\n",
        "\n",
        "        plt.subplot(1, 5, i + 1)\n",
        "        plt.imshow(img)\n",
        "        plt.title(f\"Pred: {predicted_class.split('___')[-1]}\\nConf: {confidence*100:.1f}%\")\n",
        "        plt.axis('off')\n",
        "\n",
        "    plt.suptitle(f\"Actual Category: {category}\", fontsize=16)\n",
        "    plt.tight_layout()\n",
        "    plt.show()\n"
      ]
    },
    {
      "cell_type": "code",
      "execution_count": null,
      "metadata": {
        "colab": {
          "base_uri": "https://localhost:8080/",
          "height": 561
        },
        "id": "ZOEsORQPZ5wJ",
        "outputId": "be4f83da-66c4-4eb1-920b-45ef1a89c48d"
      },
      "outputs": [
        {
          "name": "stderr",
          "output_type": "stream",
          "text": [
            "WARNING:absl:Compiled the loaded model, but the compiled metrics have yet to be built. `model.compile_metrics` will be empty until you train or evaluate the model.\n"
          ]
        },
        {
          "data": {
            "text/html": [
              "\n",
              "     <input type=\"file\" id=\"files-aa757bd3-0781-421a-8fe6-7c7a3d7c2093\" name=\"files[]\" multiple disabled\n",
              "        style=\"border:none\" />\n",
              "     <output id=\"result-aa757bd3-0781-421a-8fe6-7c7a3d7c2093\">\n",
              "      Upload widget is only available when the cell has been executed in the\n",
              "      current browser session. Please rerun this cell to enable.\n",
              "      </output>\n",
              "      <script>// Copyright 2017 Google LLC\n",
              "//\n",
              "// Licensed under the Apache License, Version 2.0 (the \"License\");\n",
              "// you may not use this file except in compliance with the License.\n",
              "// You may obtain a copy of the License at\n",
              "//\n",
              "//      http://www.apache.org/licenses/LICENSE-2.0\n",
              "//\n",
              "// Unless required by applicable law or agreed to in writing, software\n",
              "// distributed under the License is distributed on an \"AS IS\" BASIS,\n",
              "// WITHOUT WARRANTIES OR CONDITIONS OF ANY KIND, either express or implied.\n",
              "// See the License for the specific language governing permissions and\n",
              "// limitations under the License.\n",
              "\n",
              "/**\n",
              " * @fileoverview Helpers for google.colab Python module.\n",
              " */\n",
              "(function(scope) {\n",
              "function span(text, styleAttributes = {}) {\n",
              "  const element = document.createElement('span');\n",
              "  element.textContent = text;\n",
              "  for (const key of Object.keys(styleAttributes)) {\n",
              "    element.style[key] = styleAttributes[key];\n",
              "  }\n",
              "  return element;\n",
              "}\n",
              "\n",
              "// Max number of bytes which will be uploaded at a time.\n",
              "const MAX_PAYLOAD_SIZE = 100 * 1024;\n",
              "\n",
              "function _uploadFiles(inputId, outputId) {\n",
              "  const steps = uploadFilesStep(inputId, outputId);\n",
              "  const outputElement = document.getElementById(outputId);\n",
              "  // Cache steps on the outputElement to make it available for the next call\n",
              "  // to uploadFilesContinue from Python.\n",
              "  outputElement.steps = steps;\n",
              "\n",
              "  return _uploadFilesContinue(outputId);\n",
              "}\n",
              "\n",
              "// This is roughly an async generator (not supported in the browser yet),\n",
              "// where there are multiple asynchronous steps and the Python side is going\n",
              "// to poll for completion of each step.\n",
              "// This uses a Promise to block the python side on completion of each step,\n",
              "// then passes the result of the previous step as the input to the next step.\n",
              "function _uploadFilesContinue(outputId) {\n",
              "  const outputElement = document.getElementById(outputId);\n",
              "  const steps = outputElement.steps;\n",
              "\n",
              "  const next = steps.next(outputElement.lastPromiseValue);\n",
              "  return Promise.resolve(next.value.promise).then((value) => {\n",
              "    // Cache the last promise value to make it available to the next\n",
              "    // step of the generator.\n",
              "    outputElement.lastPromiseValue = value;\n",
              "    return next.value.response;\n",
              "  });\n",
              "}\n",
              "\n",
              "/**\n",
              " * Generator function which is called between each async step of the upload\n",
              " * process.\n",
              " * @param {string} inputId Element ID of the input file picker element.\n",
              " * @param {string} outputId Element ID of the output display.\n",
              " * @return {!Iterable<!Object>} Iterable of next steps.\n",
              " */\n",
              "function* uploadFilesStep(inputId, outputId) {\n",
              "  const inputElement = document.getElementById(inputId);\n",
              "  inputElement.disabled = false;\n",
              "\n",
              "  const outputElement = document.getElementById(outputId);\n",
              "  outputElement.innerHTML = '';\n",
              "\n",
              "  const pickedPromise = new Promise((resolve) => {\n",
              "    inputElement.addEventListener('change', (e) => {\n",
              "      resolve(e.target.files);\n",
              "    });\n",
              "  });\n",
              "\n",
              "  const cancel = document.createElement('button');\n",
              "  inputElement.parentElement.appendChild(cancel);\n",
              "  cancel.textContent = 'Cancel upload';\n",
              "  const cancelPromise = new Promise((resolve) => {\n",
              "    cancel.onclick = () => {\n",
              "      resolve(null);\n",
              "    };\n",
              "  });\n",
              "\n",
              "  // Wait for the user to pick the files.\n",
              "  const files = yield {\n",
              "    promise: Promise.race([pickedPromise, cancelPromise]),\n",
              "    response: {\n",
              "      action: 'starting',\n",
              "    }\n",
              "  };\n",
              "\n",
              "  cancel.remove();\n",
              "\n",
              "  // Disable the input element since further picks are not allowed.\n",
              "  inputElement.disabled = true;\n",
              "\n",
              "  if (!files) {\n",
              "    return {\n",
              "      response: {\n",
              "        action: 'complete',\n",
              "      }\n",
              "    };\n",
              "  }\n",
              "\n",
              "  for (const file of files) {\n",
              "    const li = document.createElement('li');\n",
              "    li.append(span(file.name, {fontWeight: 'bold'}));\n",
              "    li.append(span(\n",
              "        `(${file.type || 'n/a'}) - ${file.size} bytes, ` +\n",
              "        `last modified: ${\n",
              "            file.lastModifiedDate ? file.lastModifiedDate.toLocaleDateString() :\n",
              "                                    'n/a'} - `));\n",
              "    const percent = span('0% done');\n",
              "    li.appendChild(percent);\n",
              "\n",
              "    outputElement.appendChild(li);\n",
              "\n",
              "    const fileDataPromise = new Promise((resolve) => {\n",
              "      const reader = new FileReader();\n",
              "      reader.onload = (e) => {\n",
              "        resolve(e.target.result);\n",
              "      };\n",
              "      reader.readAsArrayBuffer(file);\n",
              "    });\n",
              "    // Wait for the data to be ready.\n",
              "    let fileData = yield {\n",
              "      promise: fileDataPromise,\n",
              "      response: {\n",
              "        action: 'continue',\n",
              "      }\n",
              "    };\n",
              "\n",
              "    // Use a chunked sending to avoid message size limits. See b/62115660.\n",
              "    let position = 0;\n",
              "    do {\n",
              "      const length = Math.min(fileData.byteLength - position, MAX_PAYLOAD_SIZE);\n",
              "      const chunk = new Uint8Array(fileData, position, length);\n",
              "      position += length;\n",
              "\n",
              "      const base64 = btoa(String.fromCharCode.apply(null, chunk));\n",
              "      yield {\n",
              "        response: {\n",
              "          action: 'append',\n",
              "          file: file.name,\n",
              "          data: base64,\n",
              "        },\n",
              "      };\n",
              "\n",
              "      let percentDone = fileData.byteLength === 0 ?\n",
              "          100 :\n",
              "          Math.round((position / fileData.byteLength) * 100);\n",
              "      percent.textContent = `${percentDone}% done`;\n",
              "\n",
              "    } while (position < fileData.byteLength);\n",
              "  }\n",
              "\n",
              "  // All done.\n",
              "  yield {\n",
              "    response: {\n",
              "      action: 'complete',\n",
              "    }\n",
              "  };\n",
              "}\n",
              "\n",
              "scope.google = scope.google || {};\n",
              "scope.google.colab = scope.google.colab || {};\n",
              "scope.google.colab._files = {\n",
              "  _uploadFiles,\n",
              "  _uploadFilesContinue,\n",
              "};\n",
              "})(self);\n",
              "</script> "
            ],
            "text/plain": [
              "<IPython.core.display.HTML object>"
            ]
          },
          "metadata": {},
          "output_type": "display_data"
        },
        {
          "name": "stdout",
          "output_type": "stream",
          "text": [
            "Saving tomato_leaf.jpg to tomato_leaf.jpg\n",
            "\u001b[1m1/1\u001b[0m \u001b[32m━━━━━━━━━━━━━━━━━━━━\u001b[0m\u001b[37m\u001b[0m \u001b[1m0s\u001b[0m 130ms/step\n"
          ]
        },
        {
          "data": {
            "image/png": "[encoded data removed]",
            "text/plain": [
              "<Figure size 640x480 with 1 Axes>"
            ]
          },
          "metadata": {},
          "output_type": "display_data"
        }
      ],
      "source": [
        "from google.colab import files\n",
        "from tensorflow.keras.preprocessing import image\n",
        "import numpy as np\n",
        "import matplotlib.pyplot as plt\n",
        "from tensorflow.keras.models import load_model\n",
        "\n",
        "# ✅ Load your trained model\n",
        "model = load_model(\"tomato_leaf_model.h5\")\n",
        "\n",
        "# ✅ Set class names from training data\n",
        "class_names = sorted(os.listdir(\"/content/tomato_only\"))  # or \"tomato_small\"\n",
        "\n",
        "# ✅ Upload your own leaf image\n",
        "uploaded = files.upload()  # Select one or more image files\n",
        "\n",
        "# ✅ Predict each uploaded image\n",
        "for filename in uploaded.keys():\n",
        "    img = image.load_img(filename, target_size=(224, 224))\n",
        "    img_array = image.img_to_array(img) / 255.0\n",
        "    img_array = np.expand_dims(img_array, axis=0)\n",
        "\n",
        "    prediction = model.predict(img_array)\n",
        "    class_index = np.argmax(prediction)\n",
        "    predicted_class = class_names[class_index]\n",
        "    confidence = prediction[0][class_index]\n",
        "\n",
        "    # ✅ Show image and prediction\n",
        "    plt.imshow(img)\n",
        "    plt.title(f\"Prediction: {predicted_class.split('___')[-1]}\\nConfidence: {confidence*100:.2f}%\")\n",
        "    plt.axis('off')\n",
        "    plt.show()\n"
      ]
    },
    {
      "cell_type": "code",
      "execution_count": null,
      "metadata": {
        "colab": {
          "base_uri": "https://localhost:8080/",
          "height": 73
        },
        "id": "rz1SCzw9gEbj",
        "outputId": "a6c05a0a-ddf3-4f94-ecc1-8bdc0033502c"
      },
      "outputs": [
        {
          "data": {
            "text/html": [
              "\n",
              "     <input type=\"file\" id=\"files-bc2b78be-4bef-4dc2-a9ef-3416f606209b\" name=\"files[]\" multiple disabled\n",
              "        style=\"border:none\" />\n",
              "     <output id=\"result-bc2b78be-4bef-4dc2-a9ef-3416f606209b\">\n",
              "      Upload widget is only available when the cell has been executed in the\n",
              "      current browser session. Please rerun this cell to enable.\n",
              "      </output>\n",
              "      <script>// Copyright 2017 Google LLC\n",
              "//\n",
              "// Licensed under the Apache License, Version 2.0 (the \"License\");\n",
              "// you may not use this file except in compliance with the License.\n",
              "// You may obtain a copy of the License at\n",
              "//\n",
              "//      http://www.apache.org/licenses/LICENSE-2.0\n",
              "//\n",
              "// Unless required by applicable law or agreed to in writing, software\n",
              "// distributed under the License is distributed on an \"AS IS\" BASIS,\n",
              "// WITHOUT WARRANTIES OR CONDITIONS OF ANY KIND, either express or implied.\n",
              "// See the License for the specific language governing permissions and\n",
              "// limitations under the License.\n",
              "\n",
              "/**\n",
              " * @fileoverview Helpers for google.colab Python module.\n",
              " */\n",
              "(function(scope) {\n",
              "function span(text, styleAttributes = {}) {\n",
              "  const element = document.createElement('span');\n",
              "  element.textContent = text;\n",
              "  for (const key of Object.keys(styleAttributes)) {\n",
              "    element.style[key] = styleAttributes[key];\n",
              "  }\n",
              "  return element;\n",
              "}\n",
              "\n",
              "// Max number of bytes which will be uploaded at a time.\n",
              "const MAX_PAYLOAD_SIZE = 100 * 1024;\n",
              "\n",
              "function _uploadFiles(inputId, outputId) {\n",
              "  const steps = uploadFilesStep(inputId, outputId);\n",
              "  const outputElement = document.getElementById(outputId);\n",
              "  // Cache steps on the outputElement to make it available for the next call\n",
              "  // to uploadFilesContinue from Python.\n",
              "  outputElement.steps = steps;\n",
              "\n",
              "  return _uploadFilesContinue(outputId);\n",
              "}\n",
              "\n",
              "// This is roughly an async generator (not supported in the browser yet),\n",
              "// where there are multiple asynchronous steps and the Python side is going\n",
              "// to poll for completion of each step.\n",
              "// This uses a Promise to block the python side on completion of each step,\n",
              "// then passes the result of the previous step as the input to the next step.\n",
              "function _uploadFilesContinue(outputId) {\n",
              "  const outputElement = document.getElementById(outputId);\n",
              "  const steps = outputElement.steps;\n",
              "\n",
              "  const next = steps.next(outputElement.lastPromiseValue);\n",
              "  return Promise.resolve(next.value.promise).then((value) => {\n",
              "    // Cache the last promise value to make it available to the next\n",
              "    // step of the generator.\n",
              "    outputElement.lastPromiseValue = value;\n",
              "    return next.value.response;\n",
              "  });\n",
              "}\n",
              "\n",
              "/**\n",
              " * Generator function which is called between each async step of the upload\n",
              " * process.\n",
              " * @param {string} inputId Element ID of the input file picker element.\n",
              " * @param {string} outputId Element ID of the output display.\n",
              " * @return {!Iterable<!Object>} Iterable of next steps.\n",
              " */\n",
              "function* uploadFilesStep(inputId, outputId) {\n",
              "  const inputElement = document.getElementById(inputId);\n",
              "  inputElement.disabled = false;\n",
              "\n",
              "  const outputElement = document.getElementById(outputId);\n",
              "  outputElement.innerHTML = '';\n",
              "\n",
              "  const pickedPromise = new Promise((resolve) => {\n",
              "    inputElement.addEventListener('change', (e) => {\n",
              "      resolve(e.target.files);\n",
              "    });\n",
              "  });\n",
              "\n",
              "  const cancel = document.createElement('button');\n",
              "  inputElement.parentElement.appendChild(cancel);\n",
              "  cancel.textContent = 'Cancel upload';\n",
              "  const cancelPromise = new Promise((resolve) => {\n",
              "    cancel.onclick = () => {\n",
              "      resolve(null);\n",
              "    };\n",
              "  });\n",
              "\n",
              "  // Wait for the user to pick the files.\n",
              "  const files = yield {\n",
              "    promise: Promise.race([pickedPromise, cancelPromise]),\n",
              "    response: {\n",
              "      action: 'starting',\n",
              "    }\n",
              "  };\n",
              "\n",
              "  cancel.remove();\n",
              "\n",
              "  // Disable the input element since further picks are not allowed.\n",
              "  inputElement.disabled = true;\n",
              "\n",
              "  if (!files) {\n",
              "    return {\n",
              "      response: {\n",
              "        action: 'complete',\n",
              "      }\n",
              "    };\n",
              "  }\n",
              "\n",
              "  for (const file of files) {\n",
              "    const li = document.createElement('li');\n",
              "    li.append(span(file.name, {fontWeight: 'bold'}));\n",
              "    li.append(span(\n",
              "        `(${file.type || 'n/a'}) - ${file.size} bytes, ` +\n",
              "        `last modified: ${\n",
              "            file.lastModifiedDate ? file.lastModifiedDate.toLocaleDateString() :\n",
              "                                    'n/a'} - `));\n",
              "    const percent = span('0% done');\n",
              "    li.appendChild(percent);\n",
              "\n",
              "    outputElement.appendChild(li);\n",
              "\n",
              "    const fileDataPromise = new Promise((resolve) => {\n",
              "      const reader = new FileReader();\n",
              "      reader.onload = (e) => {\n",
              "        resolve(e.target.result);\n",
              "      };\n",
              "      reader.readAsArrayBuffer(file);\n",
              "    });\n",
              "    // Wait for the data to be ready.\n",
              "    let fileData = yield {\n",
              "      promise: fileDataPromise,\n",
              "      response: {\n",
              "        action: 'continue',\n",
              "      }\n",
              "    };\n",
              "\n",
              "    // Use a chunked sending to avoid message size limits. See b/62115660.\n",
              "    let position = 0;\n",
              "    do {\n",
              "      const length = Math.min(fileData.byteLength - position, MAX_PAYLOAD_SIZE);\n",
              "      const chunk = new Uint8Array(fileData, position, length);\n",
              "      position += length;\n",
              "\n",
              "      const base64 = btoa(String.fromCharCode.apply(null, chunk));\n",
              "      yield {\n",
              "        response: {\n",
              "          action: 'append',\n",
              "          file: file.name,\n",
              "          data: base64,\n",
              "        },\n",
              "      };\n",
              "\n",
              "      let percentDone = fileData.byteLength === 0 ?\n",
              "          100 :\n",
              "          Math.round((position / fileData.byteLength) * 100);\n",
              "      percent.textContent = `${percentDone}% done`;\n",
              "\n",
              "    } while (position < fileData.byteLength);\n",
              "  }\n",
              "\n",
              "  // All done.\n",
              "  yield {\n",
              "    response: {\n",
              "      action: 'complete',\n",
              "    }\n",
              "  };\n",
              "}\n",
              "\n",
              "scope.google = scope.google || {};\n",
              "scope.google.colab = scope.google.colab || {};\n",
              "scope.google.colab._files = {\n",
              "  _uploadFiles,\n",
              "  _uploadFilesContinue,\n",
              "};\n",
              "})(self);\n",
              "</script> "
            ],
            "text/plain": [
              "<IPython.core.display.HTML object>"
            ]
          },
          "metadata": {},
          "output_type": "display_data"
        },
        {
          "name": "stdout",
          "output_type": "stream",
          "text": [
            "Saving Recording_voice_files.zip to Recording_voice_files.zip\n"
          ]
        }
      ],
      "source": [
        "from google.colab import files\n",
        "uploaded = files.upload()\n"
      ]
    },
    {
      "cell_type": "code",
      "execution_count": null,
      "metadata": {
        "colab": {
          "base_uri": "https://localhost:8080/"
        },
        "id": "yz1cr1xGgS_0",
        "outputId": "c512dfce-a6b2-4202-ebd8-033d6e98ab6e"
      },
      "outputs": [
        {
          "name": "stdout",
          "output_type": "stream",
          "text": [
            "✅ Voice files unzipped!\n"
          ]
        }
      ],
      "source": [
        "import zipfile\n",
        "\n",
        "with zipfile.ZipFile(\"Recording_voice_files.zip\", 'r') as zip_ref:\n",
        "    zip_ref.extractall(\"/content/\")\n",
        "\n",
        "print(\"✅ Voice files unzipped!\")\n"
      ]
    },
    {
      "cell_type": "code",
      "execution_count": null,
      "metadata": {
        "colab": {
          "base_uri": "https://localhost:8080/"
        },
        "id": "slDHIxFvg3DD",
        "outputId": "af71a345-a8e4-480f-f3da-b388b904c4bd"
      },
      "outputs": [
        {
          "name": "stdout",
          "output_type": "stream",
          "text": [
            "Collecting SpeechRecognition\n",
            "  Downloading speechrecognition-3.14.3-py3-none-any.whl.metadata (30 kB)\n",
            "Requirement already satisfied: typing-extensions in /usr/local/lib/python3.11/dist-packages (from SpeechRecognition) (4.14.0)\n",
            "Downloading speechrecognition-3.14.3-py3-none-any.whl (32.9 MB)\n",
            "\u001b[2K   \u001b[90m━━━━━━━━━━━━━━━━━━━━━━━━━━━━━━━━━━━━━━━━\u001b[0m \u001b[32m32.9/32.9 MB\u001b[0m \u001b[31m33.9 MB/s\u001b[0m eta \u001b[36m0:00:00\u001b[0m\n",
            "\u001b[?25hInstalling collected packages: SpeechRecognition\n",
            "Successfully installed SpeechRecognition-3.14.3\n"
          ]
        }
      ],
      "source": [
        "pip install SpeechRecognition"
      ]
    },
    {
      "cell_type": "code",
      "execution_count": null,
      "metadata": {
        "colab": {
          "base_uri": "https://localhost:8080/"
        },
        "id": "kll63SJ1mtjL",
        "outputId": "1fb40c5d-1cfe-45a9-a33d-8dc0affffcd0"
      },
      "outputs": [
        {
          "name": "stdout",
          "output_type": "stream",
          "text": [
            "Archive:  Recording_voice_files.zip\n",
            "  Length      Date    Time    Name\n",
            "---------  ---------- -----   ----\n",
            "        0  2025-06-24 05:51   Recording_voice_files/\n",
            "        0  2025-06-24 05:44   Recording_voice_files/english_records/\n",
            "    98541  2025-06-23 02:33   Recording_voice_files/english_records/_Large_dark_spots_on.mp3\n",
            "   108909  2025-06-23 02:33   Recording_voice_files/english_records/_Leaves_turning_yell.mp3\n",
            "   119853  2025-06-23 02:33   Recording_voice_files/english_records/_Small_black_spots_a.mp3\n",
            "   103149  2025-06-23 02:33   Recording_voice_files/english_records/_Spots_look_like_tar.mp3\n",
            "    88749  2025-06-23 02:33   Recording_voice_files/english_records/_This_tomato_plant_healthy.mp3\n",
            "    88749  2025-06-23 02:33   Recording_voice_files/english_records/_Web_like_patches_on.mp3\n",
            "    96237  2025-06-23 02:33   Recording_voice_files/english_records/_Yellowish_mold_unde.mp3\n",
            "        0  2025-06-24 05:41   Recording_voice_files/telugu_records/\n",
            "   101900  2025-06-23 02:34   Recording_voice_files/telugu_records/10_Tomato_Healthy.m4a\n",
            "   125500  2025-06-23 02:33   Recording_voice_files/telugu_records/1_Tomato_Bacterial_Spot.m4a\n",
            "   119344  2025-06-23 02:34   Recording_voice_files/telugu_records/2_Tomato_Early_Blight.m4a\n",
            "   111500  2025-06-23 02:34   Recording_voice_files/telugu_records/3_Tomato_Late_Blight.m4a\n",
            "   108072  2025-06-23 02:33   Recording_voice_files/telugu_records/4_Tomato_Leaf_mold.m4a\n",
            "   117646  2025-06-23 02:33   Recording_voice_files/telugu_records/5_Tomato_Spectoria_Leaf_Spot.m4a\n",
            "   100920  2025-06-23 02:34   Recording_voice_files/telugu_records/6_Tomato_Spider_Mites_Two-spotted.m4a\n",
            "   108084  2025-06-23 02:34   Recording_voice_files/telugu_records/7_Tomato_Target_Spot.m4a\n",
            "   104676  2025-06-23 02:34   Recording_voice_files/telugu_records/8_Tomato_Yellow_Leaf_Curl_Virus.m4a\n",
            "    90966  2025-06-23 02:34   Recording_voice_files/telugu_records/9_Tomato_Masoic_Virus.m4a\n",
            "---------                     -------\n",
            "  1792795                     20 files\n"
          ]
        }
      ],
      "source": [
        "!unzip -l Recording_voice_files.zip\n"
      ]
    },
    {
      "cell_type": "code",
      "execution_count": null,
      "metadata": {
        "colab": {
          "base_uri": "https://localhost:8080/"
        },
        "id": "Ee5bQJ0rm14g",
        "outputId": "00c40222-0483-43fb-e6bb-bb6ce543c5e5"
      },
      "outputs": [
        {
          "name": "stdout",
          "output_type": "stream",
          "text": [
            "Requirement already satisfied: pydub in /usr/local/lib/python3.11/dist-packages (0.25.1)\n",
            "Reading package lists... Done\n",
            "Building dependency tree... Done\n",
            "Reading state information... Done\n",
            "ffmpeg is already the newest version (7:4.4.2-0ubuntu0.22.04.1).\n",
            "0 upgraded, 0 newly installed, 0 to remove and 35 not upgraded.\n"
          ]
        }
      ],
      "source": [
        "!pip install pydub\n",
        "!apt-get install ffmpeg\n"
      ]
    },
    {
      "cell_type": "code",
      "execution_count": null,
      "metadata": {
        "id": "1uYqnOKPnjCS"
      },
      "outputs": [],
      "source": [
        "import os\n",
        "import speech_recognition as sr\n",
        "from pydub import AudioSegment\n"
      ]
    },
    {
      "cell_type": "code",
      "execution_count": null,
      "metadata": {
        "id": "jBcIVDqHnjNK"
      },
      "outputs": [],
      "source": [
        "import zipfile\n",
        "\n",
        "with zipfile.ZipFile(\"Recording_voice_files.zip\", 'r') as zip_ref:\n",
        "    zip_ref.extractall(\"Recording_voice_files\")  # Extract into folder\n"
      ]
    },
    {
      "cell_type": "code",
      "execution_count": null,
      "metadata": {
        "id": "YL59780foRNc"
      },
      "outputs": [],
      "source": []
    },
    {
      "cell_type": "code",
      "execution_count": null,
      "metadata": {
        "colab": {
          "base_uri": "https://localhost:8080/"
        },
        "id": "39pPs5VKEtqI",
        "outputId": "d5f27e9e-68b2-4dd6-a093-0a4797a5c35e"
      },
      "outputs": [
        {
          "name": "stdout",
          "output_type": "stream",
          "text": [
            "✅ Converted: 1_Tomato_Bacterial_Spot.m4a → /content/Recording_voice_files/Recording_voice_files/telugu_records_wav/1_Tomato_Bacterial_Spot.wav\n",
            "✅ Converted: 9_Tomato_Masoic_Virus.m4a → /content/Recording_voice_files/Recording_voice_files/telugu_records_wav/9_Tomato_Masoic_Virus.wav\n",
            "✅ Converted: 2_Tomato_Early_Blight.m4a → /content/Recording_voice_files/Recording_voice_files/telugu_records_wav/2_Tomato_Early_Blight.wav\n",
            "✅ Converted: 3_Tomato_Late_Blight.m4a → /content/Recording_voice_files/Recording_voice_files/telugu_records_wav/3_Tomato_Late_Blight.wav\n",
            "✅ Converted: 7_Tomato_Target_Spot.m4a → /content/Recording_voice_files/Recording_voice_files/telugu_records_wav/7_Tomato_Target_Spot.wav\n",
            "✅ Converted: 10_Tomato_Healthy.m4a → /content/Recording_voice_files/Recording_voice_files/telugu_records_wav/10_Tomato_Healthy.wav\n",
            "✅ Converted: 8_Tomato_Yellow_Leaf_Curl_Virus.m4a → /content/Recording_voice_files/Recording_voice_files/telugu_records_wav/8_Tomato_Yellow_Leaf_Curl_Virus.wav\n",
            "✅ Converted: 6_Tomato_Spider_Mites_Two-spotted.m4a → /content/Recording_voice_files/Recording_voice_files/telugu_records_wav/6_Tomato_Spider_Mites_Two-spotted.wav\n",
            "✅ Converted: 4_Tomato_Leaf_mold.m4a → /content/Recording_voice_files/Recording_voice_files/telugu_records_wav/4_Tomato_Leaf_mold.wav\n",
            "✅ Converted: 5_Tomato_Spectoria_Leaf_Spot.m4a → /content/Recording_voice_files/Recording_voice_files/telugu_records_wav/5_Tomato_Spectoria_Leaf_Spot.wav\n"
          ]
        }
      ],
      "source": [
        "from pydub import AudioSegment\n",
        "import os\n",
        "\n",
        "input_folder = \"/content/Recording_voice_files/Recording_voice_files/telugu_records\"\n",
        "output_folder = \"/content/Recording_voice_files/Recording_voice_files/telugu_records_wav\"\n",
        "os.makedirs(output_folder, exist_ok=True)\n",
        "\n",
        "for filename in os.listdir(input_folder):\n",
        "    if filename.endswith(\".m4a\"):\n",
        "        input_path = os.path.join(input_folder, filename)\n",
        "        output_path = os.path.join(output_folder, filename.replace(\".m4a\", \".wav\"))\n",
        "\n",
        "        audio = AudioSegment.from_file(input_path)\n",
        "        audio.export(output_path, format=\"wav\")\n",
        "        print(f\"✅ Converted: {filename} → {output_path}\")"
      ]
    },
    {
      "cell_type": "code",
      "execution_count": null,
      "metadata": {
        "colab": {
          "base_uri": "https://localhost:8080/"
        },
        "id": "vRGZQCdMkXh6",
        "outputId": "5985bf10-c9d8-40a1-d2c9-8d2bbd6fafb2"
      },
      "outputs": [
        {
          "name": "stdout",
          "output_type": "stream",
          "text": [
            "\n",
            "🎧 ఫైల్: 8_Tomato_Yellow_Leaf_Curl_Virus.wav\n",
            "🗣️ మాటలు: ఆకులు పగిలిపోయిన లాగా కార్లు ఎల్లో గా మారుతున్నాయి వైరస్ సింటమ్స్ ఇది\n",
            "🟡 ఆకులు పచ్చగా మారడం: పోషక లోపం లేదా వైరస్.\n",
            "💊 NPK ఎరువులు వేసి తెల్లదోమలు నియంత్రించండి.\n"
          ]
        }
      ],
      "source": [
        "import os\n",
        "import speech_recognition as sr\n",
        "\n",
        "recognizer = sr.Recognizer()\n",
        "\n",
        "# ✅ Correct file path based on your structure\n",
        "voice_path = \"/content/Recording_voice_files/Recording_voice_files/telugu_records_wav/8_Tomato_Yellow_Leaf_Curl_Virus.wav\"\n",
        "\n",
        "def get_telugu_solution(text):\n",
        "    if \"బ్లాక్\" in text or \"స్పాట్\" in text or \"రింగ్\" in text or \"చీకటి\" in text:\n",
        "        return \"⚫ ఆకులపై నలుపు లేదా రింగ్ మచ్చలు: శిలీంధ్రం లేదా బ్యాక్టీరియా సమస్య.\\n💊 కాపర్ ఫంగిసైడ్ వాడండి.\"\n",
        "    elif \"పచ్చ\" in text or \"ఎల్లో\" in text:\n",
        "        return \"🟡 ఆకులు పచ్చగా మారడం: పోషక లోపం లేదా వైరస్.\\n💊 NPK ఎరువులు వేసి తెల్లదోమలు నియంత్రించండి.\"\n",
        "    elif \"మోల్డ్\" in text or \"తెల్లగా\" in text or \"పొడి\" in text:\n",
        "        return \"⚪ ఆకుల కింద తెల్లటి లేదా పచ్చటి మచ్చలు: ఇది లీఫ్ మోల్డ్ కావచ్చు.\\n💊 నిమ్ ఆయిల్ లేదా సల్ఫర్ స్ప్రే వాడండి.\"\n",
        "    elif \"నెట్\" in text or \"జాలం\" in text or \"స్పైడర్\" in text:\n",
        "        return \"🕸️ స్పైడర్ మైట్స్ సమస్య.\\n💊 నిమ్ ఆయిల్ లేదా ఇన్సెక్టిసైడల్ సొప్ వాడండి.\"\n",
        "    elif \"వంపు\" in text or \"కర్ల్\" in text or \"పగలడం\" in text:\n",
        "        return \"🌪️ ఆకుల వంపు లేదా పగలడం: వైరస్ సోకిన మొక్క.\\n💊 బాధిత మొక్కలు తొలగించండి మరియు పురుగుమందులు పూయండి.\"\n",
        "    elif \"హెల్తీ\" in text or \"సమస్య లేదు\" in text or \"పర్వాలేదు\" in text:\n",
        "        return \"✅ ఈ మొక్క ఆరోగ్యంగా ఉంది. ఎలాంటి సమస్య లేదు!\"\n",
        "    else:\n",
        "        return \"🤔 స్పష్టంగా గుర్తించలేకపోయాం. మరింత స్పష్టంగా చెప్పండి లేదా కొత్తగా రికార్డ్ చేయండి.\"\n",
        "\n",
        "# 🔄 Recognize speech from selected file\n",
        "file_path = voice_path\n",
        "print(f\"\\n🎧 ఫైల్: {os.path.basename(file_path)}\")\n",
        "with sr.AudioFile(file_path) as source:\n",
        "    audio_data = recognizer.record(source)\n",
        "    try:\n",
        "        text = recognizer.recognize_google(audio_data, language='te-IN')\n",
        "        print(f\"🗣️ మాటలు: {text}\")\n",
        "        print(get_telugu_solution(text))\n",
        "    except sr.UnknownValueError:\n",
        "        print(\"❌ స్పీచ్ అర్థం కాలేదు.\")\n",
        "    except sr.RequestError:\n",
        "        print(\"❌ Google API లో సమస్య ఉంది.\")\n"
      ]
    },
    {
      "cell_type": "code",
      "execution_count": null,
      "metadata": {
        "colab": {
          "base_uri": "https://localhost:8080/"
        },
        "id": "xkfNTNjAUPbP",
        "outputId": "13ea3e2b-471d-4479-c2ce-29face042d52"
      },
      "outputs": [
        {
          "name": "stdout",
          "output_type": "stream",
          "text": [
            "✅ Converted: _Yellowish_mold_unde.mp3 → /content/Recording_voice_files/Recording_voice_files/english_records_wav/_Yellowish_mold_unde.wav\n",
            "✅ Converted: _Small_black_spots_a.mp3 → /content/Recording_voice_files/Recording_voice_files/english_records_wav/_Small_black_spots_a.wav\n",
            "✅ Converted: _Large_dark_spots_on.mp3 → /content/Recording_voice_files/Recording_voice_files/english_records_wav/_Large_dark_spots_on.wav\n",
            "✅ Converted: _Leaves_turning_yell.mp3 → /content/Recording_voice_files/Recording_voice_files/english_records_wav/_Leaves_turning_yell.wav\n",
            "✅ Converted: _Web_like_patches_on.mp3 → /content/Recording_voice_files/Recording_voice_files/english_records_wav/_Web_like_patches_on.wav\n",
            "✅ Converted: _Spots_look_like_tar.mp3 → /content/Recording_voice_files/Recording_voice_files/english_records_wav/_Spots_look_like_tar.wav\n",
            "✅ Converted: _This_tomato_plant_healthy.mp3 → /content/Recording_voice_files/Recording_voice_files/english_records_wav/_This_tomato_plant_healthy.wav\n"
          ]
        }
      ],
      "source": [
        "from pydub import AudioSegment\n",
        "import os\n",
        "\n",
        "input_folder = \"/content/Recording_voice_files/Recording_voice_files/english_records\"\n",
        "output_folder = \"/content/Recording_voice_files/Recording_voice_files/english_records_wav\"\n",
        "os.makedirs(output_folder, exist_ok=True)\n",
        "\n",
        "for filename in os.listdir(input_folder):\n",
        "    if filename.endswith(\".mp3\"):\n",
        "        input_path = os.path.join(input_folder, filename)\n",
        "        output_path = os.path.join(output_folder, filename.replace(\".mp3\", \".wav\"))\n",
        "\n",
        "        audio = AudioSegment.from_file(input_path)\n",
        "        audio.export(output_path, format=\"wav\")\n",
        "        print(f\"✅ Converted: {filename} → {output_path}\")\n"
      ]
    },
    {
      "cell_type": "code",
      "execution_count": null,
      "metadata": {
        "colab": {
          "base_uri": "https://localhost:8080/"
        },
        "id": "3pfuI-nwUPYP",
        "outputId": "912dc774-6b1d-4e9f-d1b2-e47b98ecff77"
      },
      "outputs": [
        {
          "name": "stdout",
          "output_type": "stream",
          "text": [
            "\n",
            "🎧 Processing: _Leaves_turning_yell.wav\n",
            "🗣️ Spoken Text: leaves turning yellow and curling symptom of yellow leaf curl virus\n",
            "🟡 Yellowing leaves: Possible nutrient deficiency or viral issue.\n",
            "💊 Apply NPK fertilizer and control whiteflies.\n",
            "\n",
            "🎧 Processing: _Web_like_patches_on.wav\n",
            "🗣️ Spoken Text: the black patches on leaves sign of spider mites\n",
            "🤔 Couldn't detect issue. Please re-record or add an image for better results.\n",
            "\n",
            "🎧 Processing: _Yellowish_mold_unde.wav\n",
            "🗣️ Spoken Text: yellowish mould under the leaves it's a symptom of leaf mould\n",
            "🟡 Yellowing leaves: Possible nutrient deficiency or viral issue.\n",
            "💊 Apply NPK fertilizer and control whiteflies.\n",
            "\n",
            "🎧 Processing: _Large_dark_spots_on.wav\n",
            "🗣️ Spoken Text: large dark spots on groin leaves possibly LED light\n",
            "⚫ Black/Dark spots: Possibly early blight or fungal infection.\n",
            "💊 Use copper-based fungicide.\n",
            "\n",
            "🎧 Processing: _This_tomato_plant_healthy.wav\n",
            "🗣️ Spoken Text: does tomato plant has no issues it is healthy\n",
            "🤔 Couldn't detect issue. Please re-record or add an image for better results.\n",
            "\n",
            "🎧 Processing: _Spots_look_like_tar.wav\n",
            "🗣️ Spoken Text: Spots look like targets with rings this may be target spot\n",
            "🤔 Couldn't detect issue. Please re-record or add an image for better results.\n",
            "\n",
            "🎧 Processing: _Small_black_spots_a.wav\n",
            "🗣️ Spoken Text: small black spots appear on tomato leaves this may be bacterial spot\n",
            "⚫ Black/Dark spots: Possibly early blight or fungal infection.\n",
            "💊 Use copper-based fungicide.\n"
          ]
        }
      ],
      "source": [
        "import speech_recognition as sr\n",
        "\n",
        "recognizer = sr.Recognizer()\n",
        "voice_path = \"/content/Recording_voice_files/Recording_voice_files/english_records_wav\"\n",
        "\n",
        "def get_english_solution(text):\n",
        "    text = text.lower()\n",
        "    if \"yellow\" in text and \"leaves\" in text:\n",
        "        return \"🟡 Yellowing leaves: Possible nutrient deficiency or viral issue.\\n💊 Apply NPK fertilizer and control whiteflies.\"\n",
        "    elif \"black spots\" in text or \"dark\" in text:\n",
        "        return \"⚫ Black/Dark spots: Possibly early blight or fungal infection.\\n💊 Use copper-based fungicide.\"\n",
        "    elif \"mold\" in text or \"white\" in text:\n",
        "        return \"⚪ White mold or powdery mildew.\\n💊 Use neem oil or sulfur spray.\"\n",
        "    elif \"web\" in text:\n",
        "        return \"🕸️ Web-like symptoms: Likely spider mites.\\n💊 Spray neem oil or insecticidal soap.\"\n",
        "    elif \"curl\" in text or \"twist\" in text:\n",
        "        return \"🌪️ Curling leaves: Could be leaf curl virus.\\n💊 Remove infected leaves and spray appropriate insecticide.\"\n",
        "    else:\n",
        "        return \"🤔 Couldn't detect issue. Please re-record or add an image for better results.\"\n",
        "\n",
        "# Loop through converted WAV files\n",
        "for file in os.listdir(voice_path):\n",
        "    if file.endswith(\".wav\"):\n",
        "        file_path = os.path.join(voice_path, file)\n",
        "        print(f\"\\n🎧 Processing: {file}\")\n",
        "        with sr.AudioFile(file_path) as source:\n",
        "            audio_data = recognizer.record(source)\n",
        "            try:\n",
        "                text = recognizer.recognize_google(audio_data)\n",
        "                print(f\"🗣️ Spoken Text: {text}\")\n",
        "                print(get_english_solution(text))\n",
        "            except sr.UnknownValueError:\n",
        "                print(\"❌ Could not understand the speech.\")\n",
        "            except sr.RequestError:\n",
        "                print(\"❌ Google API issue.\")\n"
      ]
    },
    {
      "cell_type": "code",
      "execution_count": null,
      "metadata": {
        "colab": {
          "base_uri": "https://localhost:8080/"
        },
        "id": "QhsGk2XWUPVM",
        "outputId": "ceb93a49-f363-4336-ebe2-e7cefa81fa73"
      },
      "outputs": [
        {
          "name": "stderr",
          "output_type": "stream",
          "text": [
            "WARNING:absl:Compiled the loaded model, but the compiled metrics have yet to be built. `model.compile_metrics` will be empty until you train or evaluate the model.\n"
          ]
        }
      ],
      "source": [
        "from tensorflow.keras.models import load_model\n",
        "from tensorflow.keras.preprocessing import image\n",
        "import numpy as np\n",
        "import os\n",
        "\n",
        "# Load the model (adjust path if needed)\n",
        "model = load_model(\"tomato_leaf_model.h5\")\n",
        "\n",
        "# Load class names from training data\n",
        "class_names = list(train_data.class_indices.keys())\n",
        "\n",
        "def predict_image(img_path):\n",
        "    img = image.load_img(img_path, target_size=(224, 224))\n",
        "    img_array = image.img_to_array(img) / 255.0\n",
        "    img_array = np.expand_dims(img_array, axis=0)\n",
        "\n",
        "    prediction = model.predict(img_array)[0]\n",
        "    class_index = np.argmax(prediction)\n",
        "    confidence = prediction[class_index]\n",
        "\n",
        "    return class_names[class_index], confidence\n"
      ]
    },
    {
      "cell_type": "code",
      "execution_count": null,
      "metadata": {
        "colab": {
          "base_uri": "https://localhost:8080/"
        },
        "id": "C3gmTRpMkuXq",
        "outputId": "fe2b5d9d-22bf-4db7-a7a9-d7f6339631fd"
      },
      "outputs": [
        {
          "name": "stdout",
          "output_type": "stream",
          "text": [
            "🗣️ Transcribed Text:\n",
            "leaves turning yellow and curling symptom of yellow leaf curl virus\n"
          ]
        }
      ],
      "source": [
        "import speech_recognition as sr\n",
        "\n",
        "def transcribe_voice(wav_path):\n",
        "    recognizer = sr.Recognizer()\n",
        "    with sr.AudioFile(wav_path) as source:\n",
        "        audio = recognizer.record(source)\n",
        "        try:\n",
        "            text = recognizer.recognize_google(audio)\n",
        "            return text.lower()\n",
        "        except sr.UnknownValueError:\n",
        "            return \"❌ Could not understand the speech.\"\n",
        "        except sr.RequestError:\n",
        "            return \"❌ Google API error.\"\n",
        "        except Exception as e:\n",
        "            return f\"⚠️ Error: {str(e)}\"\n",
        "\n",
        "# ✅ Example usage:\n",
        "voice_file_path = \"/content/Recording_voice_files/Recording_voice_files/english_records_wav/_Leaves_turning_yell.wav\"\n",
        "\n",
        "# Call the function and print the result\n",
        "result = transcribe_voice(voice_file_path)\n",
        "print(f\"🗣️ Transcribed Text:\\n{result}\")\n"
      ]
    },
    {
      "cell_type": "code",
      "execution_count": null,
      "metadata": {
        "id": "htpeKhjHUPR5"
      },
      "outputs": [],
      "source": [
        "import speech_recognition as sr\n",
        "\n",
        "def transcribe_voice(wav_path):\n",
        "    recognizer = sr.Recognizer()\n",
        "    with sr.AudioFile(wav_path) as source:\n",
        "        audio = recognizer.record(source)\n",
        "        try:\n",
        "            text = recognizer.recognize_google(audio)\n",
        "            return text.lower()\n",
        "        except:\n",
        "            return \"\"\n"
      ]
    },
    {
      "cell_type": "code",
      "execution_count": null,
      "metadata": {
        "colab": {
          "base_uri": "https://localhost:8080/"
        },
        "id": "5TerWTcaUPOy",
        "outputId": "ebf4a91a-915b-43b6-c9a6-f1bab085a1cc"
      },
      "outputs": [
        {
          "name": "stdout",
          "output_type": "stream",
          "text": [
            "💊 Smart Solution:\n",
            "\n",
            "🟡 Use balanced fertilizer (NPK).\n",
            "⚫ Use copper-based fungicide.\n",
            "🌪️ Remove curled leaves and control insects.\n"
          ]
        }
      ],
      "source": [
        "def smart_solution(image_label, voice_text):\n",
        "    suggestions = []\n",
        "\n",
        "    if \"yellow\" in voice_text or \"nutrient\" in voice_text:\n",
        "        suggestions.append(\"🟡 Use balanced fertilizer (NPK).\")\n",
        "\n",
        "    if \"black\" in voice_text or \"spot\" in voice_text or \"blight\" in image_label:\n",
        "        suggestions.append(\"⚫ Use copper-based fungicide.\")\n",
        "\n",
        "    if \"mold\" in voice_text or \"white\" in voice_text:\n",
        "        suggestions.append(\"⚪ Apply neem oil or sulfur spray.\")\n",
        "\n",
        "    if \"curl\" in voice_text:\n",
        "        suggestions.append(\"🌪️ Remove curled leaves and control insects.\")\n",
        "\n",
        "    if not suggestions:\n",
        "        suggestions.append(\"🤔 Try to upload a clearer image or re-record voice.\")\n",
        "\n",
        "    return \"\\n\".join(suggestions)\n",
        "# Suppose these are the model's output and transcribed voice:\n",
        "image_label = \"Tomato___Late_blight\"\n",
        "voice_text = \"the leaves are yellow and curling a bit\"\n",
        "\n",
        "# Call the function and print the solution\n",
        "print(\"💊 Smart Solution:\\n\")\n",
        "print(smart_solution(image_label, voice_text))\n"
      ]
    },
    {
      "cell_type": "code",
      "execution_count": null,
      "metadata": {
        "colab": {
          "base_uri": "https://localhost:8080/"
        },
        "id": "AMU6HMWlQH_S",
        "outputId": "88c567f8-51ba-457f-8cb8-ef576b8433f3"
      },
      "outputs": [
        {
          "name": "stdout",
          "output_type": "stream",
          "text": [
            "\u001b[1m1/1\u001b[0m \u001b[32m━━━━━━━━━━━━━━━━━━━━\u001b[0m\u001b[37m\u001b[0m \u001b[1m0s\u001b[0m 124ms/step\n",
            "📸 Image Prediction: Tomato___Late_blight (98.37%)\n",
            "🗣️ Voice Text: leaves turning yellow and curling symptom of yellow leaf curl virus\n",
            "💊 Suggested Action:\n",
            " 🟡 Use balanced fertilizer (NPK).\n",
            "⚫ Use copper-based fungicide.\n",
            "🌪️ Remove curled leaves and control insects.\n"
          ]
        }
      ],
      "source": [
        "image_path = \"/content/tomato_leaf.jpg\"  # 🖼️ Replace with your test image\n",
        "voice_path = \"/content/Recording_voice_files/Recording_voice_files/english_records_wav/_Leaves_turning_yell.wav\"  # 🎤\n",
        "\n",
        "# Predict from image\n",
        "img_label, img_conf = predict_image(image_path)\n",
        "print(f\"📸 Image Prediction: {img_label} ({img_conf*100:.2f}%)\")\n",
        "\n",
        "# Predict from voice\n",
        "voice_text = transcribe_voice(voice_path)\n",
        "print(f\"🗣️ Voice Text: {voice_text}\")\n",
        "\n",
        "# Final suggestion\n",
        "print(\"💊 Suggested Action:\\n\", smart_solution(img_label, voice_text))\n"
      ]
    },
    {
      "cell_type": "code",
      "execution_count": null,
      "metadata": {
        "colab": {
          "base_uri": "https://localhost:8080/"
        },
        "id": "HxluDCpwqbxd",
        "outputId": "83f6d377-c1a7-4da3-a0fe-103c120568af"
      },
      "outputs": [
        {
          "name": "stdout",
          "output_type": "stream",
          "text": [
            "Requirement already satisfied: flask in /usr/local/lib/python3.11/dist-packages (3.1.1)\n",
            "Requirement already satisfied: tensorflow in /usr/local/lib/python3.11/dist-packages (2.18.0)\n",
            "Requirement already satisfied: pillow in /usr/local/lib/python3.11/dist-packages (11.2.1)\n",
            "Requirement already satisfied: numpy in /usr/local/lib/python3.11/dist-packages (2.0.2)\n",
            "Requirement already satisfied: speechrecognition in /usr/local/lib/python3.11/dist-packages (3.14.3)\n",
            "Requirement already satisfied: pydub in /usr/local/lib/python3.11/dist-packages (0.25.1)\n",
            "Requirement already satisfied: blinker>=1.9.0 in /usr/local/lib/python3.11/dist-packages (from flask) (1.9.0)\n",
            "Requirement already satisfied: click>=8.1.3 in /usr/local/lib/python3.11/dist-packages (from flask) (8.2.1)\n",
            "Requirement already satisfied: itsdangerous>=2.2.0 in /usr/local/lib/python3.11/dist-packages (from flask) (2.2.0)\n",
            "Requirement already satisfied: jinja2>=3.1.2 in /usr/local/lib/python3.11/dist-packages (from flask) (3.1.6)\n",
            "Requirement already satisfied: markupsafe>=2.1.1 in /usr/local/lib/python3.11/dist-packages (from flask) (3.0.2)\n",
            "Requirement already satisfied: werkzeug>=3.1.0 in /usr/local/lib/python3.11/dist-packages (from flask) (3.1.3)\n",
            "Requirement already satisfied: absl-py>=1.0.0 in /usr/local/lib/python3.11/dist-packages (from tensorflow) (1.4.0)\n",
            "Requirement already satisfied: astunparse>=1.6.0 in /usr/local/lib/python3.11/dist-packages (from tensorflow) (1.6.3)\n",
            "Requirement already satisfied: flatbuffers>=24.3.25 in /usr/local/lib/python3.11/dist-packages (from tensorflow) (25.2.10)\n",
            "Requirement already satisfied: gast!=0.5.0,!=0.5.1,!=0.5.2,>=0.2.1 in /usr/local/lib/python3.11/dist-packages (from tensorflow) (0.6.0)\n",
            "Requirement already satisfied: google-pasta>=0.1.1 in /usr/local/lib/python3.11/dist-packages (from tensorflow) (0.2.0)\n",
            "Requirement already satisfied: libclang>=13.0.0 in /usr/local/lib/python3.11/dist-packages (from tensorflow) (18.1.1)\n",
            "Requirement already satisfied: opt-einsum>=2.3.2 in /usr/local/lib/python3.11/dist-packages (from tensorflow) (3.4.0)\n",
            "Requirement already satisfied: packaging in /usr/local/lib/python3.11/dist-packages (from tensorflow) (24.2)\n",
            "Requirement already satisfied: protobuf!=4.21.0,!=4.21.1,!=4.21.2,!=4.21.3,!=4.21.4,!=4.21.5,<6.0.0dev,>=3.20.3 in /usr/local/lib/python3.11/dist-packages (from tensorflow) (5.29.5)\n",
            "Requirement already satisfied: requests<3,>=2.21.0 in /usr/local/lib/python3.11/dist-packages (from tensorflow) (2.32.3)\n",
            "Requirement already satisfied: setuptools in /usr/local/lib/python3.11/dist-packages (from tensorflow) (75.2.0)\n",
            "Requirement already satisfied: six>=1.12.0 in /usr/local/lib/python3.11/dist-packages (from tensorflow) (1.17.0)\n",
            "Requirement already satisfied: termcolor>=1.1.0 in /usr/local/lib/python3.11/dist-packages (from tensorflow) (3.1.0)\n",
            "Requirement already satisfied: typing-extensions>=3.6.6 in /usr/local/lib/python3.11/dist-packages (from tensorflow) (4.14.0)\n",
            "Requirement already satisfied: wrapt>=1.11.0 in /usr/local/lib/python3.11/dist-packages (from tensorflow) (1.17.2)\n",
            "Requirement already satisfied: grpcio<2.0,>=1.24.3 in /usr/local/lib/python3.11/dist-packages (from tensorflow) (1.73.0)\n",
            "Requirement already satisfied: tensorboard<2.19,>=2.18 in /usr/local/lib/python3.11/dist-packages (from tensorflow) (2.18.0)\n",
            "Requirement already satisfied: keras>=3.5.0 in /usr/local/lib/python3.11/dist-packages (from tensorflow) (3.8.0)\n",
            "Requirement already satisfied: h5py>=3.11.0 in /usr/local/lib/python3.11/dist-packages (from tensorflow) (3.14.0)\n",
            "Requirement already satisfied: ml-dtypes<0.5.0,>=0.4.0 in /usr/local/lib/python3.11/dist-packages (from tensorflow) (0.4.1)\n",
            "Requirement already satisfied: tensorflow-io-gcs-filesystem>=0.23.1 in /usr/local/lib/python3.11/dist-packages (from tensorflow) (0.37.1)\n",
            "Requirement already satisfied: wheel<1.0,>=0.23.0 in /usr/local/lib/python3.11/dist-packages (from astunparse>=1.6.0->tensorflow) (0.45.1)\n",
            "Requirement already satisfied: rich in /usr/local/lib/python3.11/dist-packages (from keras>=3.5.0->tensorflow) (13.9.4)\n",
            "Requirement already satisfied: namex in /usr/local/lib/python3.11/dist-packages (from keras>=3.5.0->tensorflow) (0.1.0)\n",
            "Requirement already satisfied: optree in /usr/local/lib/python3.11/dist-packages (from keras>=3.5.0->tensorflow) (0.16.0)\n",
            "Requirement already satisfied: charset-normalizer<4,>=2 in /usr/local/lib/python3.11/dist-packages (from requests<3,>=2.21.0->tensorflow) (3.4.2)\n",
            "Requirement already satisfied: idna<4,>=2.5 in /usr/local/lib/python3.11/dist-packages (from requests<3,>=2.21.0->tensorflow) (3.10)\n",
            "Requirement already satisfied: urllib3<3,>=1.21.1 in /usr/local/lib/python3.11/dist-packages (from requests<3,>=2.21.0->tensorflow) (2.4.0)\n",
            "Requirement already satisfied: certifi>=2017.4.17 in /usr/local/lib/python3.11/dist-packages (from requests<3,>=2.21.0->tensorflow) (2025.6.15)\n",
            "Requirement already satisfied: markdown>=2.6.8 in /usr/local/lib/python3.11/dist-packages (from tensorboard<2.19,>=2.18->tensorflow) (3.8.2)\n",
            "Requirement already satisfied: tensorboard-data-server<0.8.0,>=0.7.0 in /usr/local/lib/python3.11/dist-packages (from tensorboard<2.19,>=2.18->tensorflow) (0.7.2)\n",
            "Requirement already satisfied: markdown-it-py>=2.2.0 in /usr/local/lib/python3.11/dist-packages (from rich->keras>=3.5.0->tensorflow) (3.0.0)\n",
            "Requirement already satisfied: pygments<3.0.0,>=2.13.0 in /usr/local/lib/python3.11/dist-packages (from rich->keras>=3.5.0->tensorflow) (2.19.2)\n",
            "Requirement already satisfied: mdurl~=0.1 in /usr/local/lib/python3.11/dist-packages (from markdown-it-py>=2.2.0->rich->keras>=3.5.0->tensorflow) (0.1.2)\n"
          ]
        }
      ],
      "source": [
        "!pip install flask tensorflow pillow numpy speechrecognition pydub\n"
      ]
    },
    {
      "cell_type": "code",
      "execution_count": null,
      "metadata": {
        "id": "kSjBNccAKwSL"
      },
      "outputs": [],
      "source": []
    },
    {
      "cell_type": "code",
      "execution_count": null,
      "metadata": {
        "colab": {
          "base_uri": "https://localhost:8080/",
          "height": 73
        },
        "id": "xxqk8U8sKwGv",
        "outputId": "47700e55-8104-409c-df6c-faeed1bfc124"
      },
      "outputs": [
        {
          "data": {
            "text/html": [
              "\n",
              "     <input type=\"file\" id=\"files-6f1aa966-6c25-47aa-94cb-d77250a9ae24\" name=\"files[]\" multiple disabled\n",
              "        style=\"border:none\" />\n",
              "     <output id=\"result-6f1aa966-6c25-47aa-94cb-d77250a9ae24\">\n",
              "      Upload widget is only available when the cell has been executed in the\n",
              "      current browser session. Please rerun this cell to enable.\n",
              "      </output>\n",
              "      <script>// Copyright 2017 Google LLC\n",
              "//\n",
              "// Licensed under the Apache License, Version 2.0 (the \"License\");\n",
              "// you may not use this file except in compliance with the License.\n",
              "// You may obtain a copy of the License at\n",
              "//\n",
              "//      http://www.apache.org/licenses/LICENSE-2.0\n",
              "//\n",
              "// Unless required by applicable law or agreed to in writing, software\n",
              "// distributed under the License is distributed on an \"AS IS\" BASIS,\n",
              "// WITHOUT WARRANTIES OR CONDITIONS OF ANY KIND, either express or implied.\n",
              "// See the License for the specific language governing permissions and\n",
              "// limitations under the License.\n",
              "\n",
              "/**\n",
              " * @fileoverview Helpers for google.colab Python module.\n",
              " */\n",
              "(function(scope) {\n",
              "function span(text, styleAttributes = {}) {\n",
              "  const element = document.createElement('span');\n",
              "  element.textContent = text;\n",
              "  for (const key of Object.keys(styleAttributes)) {\n",
              "    element.style[key] = styleAttributes[key];\n",
              "  }\n",
              "  return element;\n",
              "}\n",
              "\n",
              "// Max number of bytes which will be uploaded at a time.\n",
              "const MAX_PAYLOAD_SIZE = 100 * 1024;\n",
              "\n",
              "function _uploadFiles(inputId, outputId) {\n",
              "  const steps = uploadFilesStep(inputId, outputId);\n",
              "  const outputElement = document.getElementById(outputId);\n",
              "  // Cache steps on the outputElement to make it available for the next call\n",
              "  // to uploadFilesContinue from Python.\n",
              "  outputElement.steps = steps;\n",
              "\n",
              "  return _uploadFilesContinue(outputId);\n",
              "}\n",
              "\n",
              "// This is roughly an async generator (not supported in the browser yet),\n",
              "// where there are multiple asynchronous steps and the Python side is going\n",
              "// to poll for completion of each step.\n",
              "// This uses a Promise to block the python side on completion of each step,\n",
              "// then passes the result of the previous step as the input to the next step.\n",
              "function _uploadFilesContinue(outputId) {\n",
              "  const outputElement = document.getElementById(outputId);\n",
              "  const steps = outputElement.steps;\n",
              "\n",
              "  const next = steps.next(outputElement.lastPromiseValue);\n",
              "  return Promise.resolve(next.value.promise).then((value) => {\n",
              "    // Cache the last promise value to make it available to the next\n",
              "    // step of the generator.\n",
              "    outputElement.lastPromiseValue = value;\n",
              "    return next.value.response;\n",
              "  });\n",
              "}\n",
              "\n",
              "/**\n",
              " * Generator function which is called between each async step of the upload\n",
              " * process.\n",
              " * @param {string} inputId Element ID of the input file picker element.\n",
              " * @param {string} outputId Element ID of the output display.\n",
              " * @return {!Iterable<!Object>} Iterable of next steps.\n",
              " */\n",
              "function* uploadFilesStep(inputId, outputId) {\n",
              "  const inputElement = document.getElementById(inputId);\n",
              "  inputElement.disabled = false;\n",
              "\n",
              "  const outputElement = document.getElementById(outputId);\n",
              "  outputElement.innerHTML = '';\n",
              "\n",
              "  const pickedPromise = new Promise((resolve) => {\n",
              "    inputElement.addEventListener('change', (e) => {\n",
              "      resolve(e.target.files);\n",
              "    });\n",
              "  });\n",
              "\n",
              "  const cancel = document.createElement('button');\n",
              "  inputElement.parentElement.appendChild(cancel);\n",
              "  cancel.textContent = 'Cancel upload';\n",
              "  const cancelPromise = new Promise((resolve) => {\n",
              "    cancel.onclick = () => {\n",
              "      resolve(null);\n",
              "    };\n",
              "  });\n",
              "\n",
              "  // Wait for the user to pick the files.\n",
              "  const files = yield {\n",
              "    promise: Promise.race([pickedPromise, cancelPromise]),\n",
              "    response: {\n",
              "      action: 'starting',\n",
              "    }\n",
              "  };\n",
              "\n",
              "  cancel.remove();\n",
              "\n",
              "  // Disable the input element since further picks are not allowed.\n",
              "  inputElement.disabled = true;\n",
              "\n",
              "  if (!files) {\n",
              "    return {\n",
              "      response: {\n",
              "        action: 'complete',\n",
              "      }\n",
              "    };\n",
              "  }\n",
              "\n",
              "  for (const file of files) {\n",
              "    const li = document.createElement('li');\n",
              "    li.append(span(file.name, {fontWeight: 'bold'}));\n",
              "    li.append(span(\n",
              "        `(${file.type || 'n/a'}) - ${file.size} bytes, ` +\n",
              "        `last modified: ${\n",
              "            file.lastModifiedDate ? file.lastModifiedDate.toLocaleDateString() :\n",
              "                                    'n/a'} - `));\n",
              "    const percent = span('0% done');\n",
              "    li.appendChild(percent);\n",
              "\n",
              "    outputElement.appendChild(li);\n",
              "\n",
              "    const fileDataPromise = new Promise((resolve) => {\n",
              "      const reader = new FileReader();\n",
              "      reader.onload = (e) => {\n",
              "        resolve(e.target.result);\n",
              "      };\n",
              "      reader.readAsArrayBuffer(file);\n",
              "    });\n",
              "    // Wait for the data to be ready.\n",
              "    let fileData = yield {\n",
              "      promise: fileDataPromise,\n",
              "      response: {\n",
              "        action: 'continue',\n",
              "      }\n",
              "    };\n",
              "\n",
              "    // Use a chunked sending to avoid message size limits. See b/62115660.\n",
              "    let position = 0;\n",
              "    do {\n",
              "      const length = Math.min(fileData.byteLength - position, MAX_PAYLOAD_SIZE);\n",
              "      const chunk = new Uint8Array(fileData, position, length);\n",
              "      position += length;\n",
              "\n",
              "      const base64 = btoa(String.fromCharCode.apply(null, chunk));\n",
              "      yield {\n",
              "        response: {\n",
              "          action: 'append',\n",
              "          file: file.name,\n",
              "          data: base64,\n",
              "        },\n",
              "      };\n",
              "\n",
              "      let percentDone = fileData.byteLength === 0 ?\n",
              "          100 :\n",
              "          Math.round((position / fileData.byteLength) * 100);\n",
              "      percent.textContent = `${percentDone}% done`;\n",
              "\n",
              "    } while (position < fileData.byteLength);\n",
              "  }\n",
              "\n",
              "  // All done.\n",
              "  yield {\n",
              "    response: {\n",
              "      action: 'complete',\n",
              "    }\n",
              "  };\n",
              "}\n",
              "\n",
              "scope.google = scope.google || {};\n",
              "scope.google.colab = scope.google.colab || {};\n",
              "scope.google.colab._files = {\n",
              "  _uploadFiles,\n",
              "  _uploadFilesContinue,\n",
              "};\n",
              "})(self);\n",
              "</script> "
            ],
            "text/plain": [
              "<IPython.core.display.HTML object>"
            ]
          },
          "metadata": {},
          "output_type": "display_data"
        },
        {
          "name": "stdout",
          "output_type": "stream",
          "text": [
            "Saving tomato_leaf_model.h5 to tomato_leaf_model (1).h5\n"
          ]
        }
      ],
      "source": [
        "from google.colab import files\n",
        "uploaded = files.upload()\n"
      ]
    },
    {
      "cell_type": "code",
      "execution_count": null,
      "metadata": {
        "colab": {
          "base_uri": "https://localhost:8080/"
        },
        "id": "I6PEPUCWKwDm",
        "outputId": "c28c1f7c-fc87-4850-d553-010768ab1598"
      },
      "outputs": [
        {
          "name": "stderr",
          "output_type": "stream",
          "text": [
            "WARNING:absl:Compiled the loaded model, but the compiled metrics have yet to be built. `model.compile_metrics` will be empty until you train or evaluate the model.\n"
          ]
        }
      ],
      "source": [
        "from tensorflow.keras.models import load_model\n",
        "model = load_model('/content/tomato_leaf_model.h5')"
      ]
    },
    {
      "cell_type": "code",
      "execution_count": null,
      "metadata": {
        "id": "Nrq7VQwLKwA8"
      },
      "outputs": [],
      "source": [
        "!pip install gradio tensorflow keras speechrecognition --quiet\n"
      ]
    },
    {
      "cell_type": "code",
      "execution_count": null,
      "metadata": {
        "id": "CjjFRQJSKv-G"
      },
      "outputs": [],
      "source": [
        "import gradio as gr\n",
        "import numpy as np\n",
        "from tensorflow.keras.models import load_model\n",
        "from tensorflow.keras.preprocessing import image\n",
        "import speech_recognition as sr\n",
        "from PIL import Image\n"
      ]
    },
    {
      "cell_type": "code",
      "execution_count": null,
      "metadata": {
        "colab": {
          "base_uri": "https://localhost:8080/"
        },
        "id": "kfaeOCW6Kv7a",
        "outputId": "5d7cab43-c48a-4677-bfd1-cb2fe47f8b49"
      },
      "outputs": [
        {
          "name": "stderr",
          "output_type": "stream",
          "text": [
            "WARNING:absl:Compiled the loaded model, but the compiled metrics have yet to be built. `model.compile_metrics` will be empty until you train or evaluate the model.\n"
          ]
        }
      ],
      "source": [
        "model = load_model(\"/content/tomato_leaf_model.h5\")  # Change path if needed\n",
        "class_names = ['Bacterial Spot', 'Early Blight', 'Late Blight', 'Leaf Mold',\n",
        "               'Septoria Leaf Spot', 'Spider Mites', 'Target Spot',\n",
        "               'Yellow Leaf Curl Virus', 'Mosaic Virus', 'Healthy']\n"
      ]
    },
    {
      "cell_type": "code",
      "execution_count": null,
      "metadata": {
        "id": "PHGVYDRzKv4L"
      },
      "outputs": [],
      "source": [
        "def predict_image(img):\n",
        "    img = img.resize((224, 224))\n",
        "    img_array = image.img_to_array(img) / 255.0\n",
        "    img_array = np.expand_dims(img_array, axis=0)\n",
        "    prediction = model.predict(img_array)[0]\n",
        "    class_index = np.argmax(prediction)\n",
        "    confidence = round(prediction[class_index] * 100, 2)\n",
        "    return class_names[class_index], confidence\n"
      ]
    },
    {
      "cell_type": "code",
      "execution_count": null,
      "metadata": {
        "id": "2gDjNgZdKv1Q"
      },
      "outputs": [],
      "source": [
        "def transcribe_voice(audio_path):\n",
        "    recognizer = sr.Recognizer()\n",
        "    with sr.AudioFile(audio_path) as source:\n",
        "        audio = recognizer.record(source)\n",
        "        try:\n",
        "            text = recognizer.recognize_google(audio, language='te-IN')\n",
        "            return text\n",
        "        except:\n",
        "            return \"❌ Unable to recognize voice.\"\n"
      ]
    },
    {
      "cell_type": "code",
      "execution_count": null,
      "metadata": {
        "id": "xVNQw8T8Kvya"
      },
      "outputs": [],
      "source": [
        "def smart_solution(image_label, voice_text):\n",
        "    suggestions = []\n",
        "\n",
        "    if \"yellow\" in voice_text or \"nutrient\" in voice_text:\n",
        "        suggestions.append(\"🟡 Use balanced fertilizer (NPK).\")\n",
        "\n",
        "    if \"black\" in voice_text or \"spot\" in voice_text or \"blight\" in image_label.lower():\n",
        "        suggestions.append(\"⚫ Use copper-based fungicide.\")\n",
        "\n",
        "    if \"mold\" in voice_text or \"white\" in voice_text:\n",
        "        suggestions.append(\"⚪ Apply neem oil or sulfur spray.\")\n",
        "\n",
        "    if \"curl\" in voice_text or \"వంపు\" in voice_text:\n",
        "        suggestions.append(\"🌪️ Remove curled leaves and control whiteflies.\")\n",
        "\n",
        "    if \"healthy\" in voice_text or \"సమస్య లేదు\" in voice_text:\n",
        "        suggestions.append(\"✅ Plant is healthy. No action needed.\")\n",
        "\n",
        "    if not suggestions:\n",
        "        suggestions.append(\"🤔 Try a clearer image or re-record the voice.\")\n",
        "\n",
        "    return \"\\n\".join(suggestions)\n"
      ]
    },
    {
      "cell_type": "code",
      "execution_count": null,
      "metadata": {
        "id": "K3uPTlxeKvvh"
      },
      "outputs": [],
      "source": [
        "def ai_farmer_helper(img, audio):\n",
        "    try:\n",
        "        img_label, conf = predict_image(img)\n",
        "        voice_text = transcribe_voice(audio)\n",
        "        suggestion = smart_solution(img_label, voice_text)\n",
        "\n",
        "        return f\"📸 Prediction: {img_label} ({conf}%)\", f\"🗣️ Voice: {voice_text}\", f\"💊 Suggestion:\\n{suggestion}\"\n",
        "    except Exception as e:\n",
        "        return \"Error\", \"Error\", f\"Error: {str(e)}\"\n"
      ]
    },
    {
      "cell_type": "code",
      "execution_count": null,
      "metadata": {
        "colab": {
          "base_uri": "https://localhost:8080/"
        },
        "id": "KbfLs7m08_Ye",
        "outputId": "04676723-c0e7-434f-b9e5-7d80f41d6876"
      },
      "outputs": [
        {
          "name": "stdout",
          "output_type": "stream",
          "text": [
            "Requirement already satisfied: pydub in /usr/local/lib/python3.11/dist-packages (0.25.1)\n",
            "Reading package lists... Done\n",
            "Building dependency tree... Done\n",
            "Reading state information... Done\n",
            "ffmpeg is already the newest version (7:4.4.2-0ubuntu0.22.04.1).\n",
            "0 upgraded, 0 newly installed, 0 to remove and 35 not upgraded.\n"
          ]
        }
      ],
      "source": [
        "!pip install pydub\n",
        "!apt install ffmpeg\n"
      ]
    },
    {
      "cell_type": "code",
      "execution_count": null,
      "metadata": {
        "id": "OTREzp2QKvp2"
      },
      "outputs": [],
      "source": [
        "from pydub import AudioSegment\n",
        "import os\n",
        "\n",
        "def convert_to_wav(filepath):\n",
        "    if filepath.endswith(\".wav\"):\n",
        "        return filepath  # already in correct format\n",
        "\n",
        "    sound = AudioSegment.from_file(filepath)\n",
        "    wav_path = filepath.replace(\".webm\", \".wav\").replace(\".mp3\", \".wav\")\n",
        "    sound.export(wav_path, format=\"wav\")\n",
        "    return wav_path\n"
      ]
    },
    {
      "cell_type": "code",
      "execution_count": null,
      "metadata": {
        "id": "Zyc1aQuxKvmq"
      },
      "outputs": [],
      "source": [
        "def transcribe_microphone(audio):\n",
        "    recognizer = sr.Recognizer()\n",
        "\n",
        "    try:\n",
        "        wav_file = convert_to_wav(audio)  # Ensure format is supported\n",
        "        with sr.AudioFile(wav_file) as source:\n",
        "            data = recognizer.record(source)\n",
        "        text = recognizer.recognize_google(data, language='te-IN')  # Telugu\n",
        "        return text\n",
        "    except Exception as e:\n",
        "        return f\"❌ Error: {str(e)}\"\n"
      ]
    },
    {
      "cell_type": "code",
      "execution_count": null,
      "metadata": {
        "id": "v5uVtYy9-pYO"
      },
      "outputs": [],
      "source": [
        "# ✅ Convert audio to WAV\n",
        "def convert_to_wav(filepath):\n",
        "    if filepath.endswith(\".wav\"):\n",
        "        return filepath\n",
        "    sound = AudioSegment.from_file(filepath)\n",
        "    wav_path = filepath.rsplit(\".\", 1)[0] + \".wav\"\n",
        "    sound.export(wav_path, format=\"wav\")\n",
        "    return wav_path\n"
      ]
    },
    {
      "cell_type": "code",
      "execution_count": null,
      "metadata": {
        "id": "07T-ZU9A-8nT"
      },
      "outputs": [],
      "source": [
        "# ✅ Main function (gradio interface will call this)\n",
        "def process(image_input, audio_input):\n",
        "    label, confidence = predict_image(image_input)\n",
        "    transcribed = transcribe_microphone(audio_input)\n",
        "    advice = smart_solution(label, transcribed)\n",
        "\n",
        "    return f\"📸 Predicted Disease: {label} ({confidence}%)\\n🗣️ You said: {transcribed}\\n\\n💡 Advice:\\n{advice}\"\n"
      ]
    },
    {
      "cell_type": "code",
      "execution_count": null,
      "metadata": {
        "colab": {
          "background_save": true,
          "base_uri": "https://localhost:8080/",
          "height": 666
        },
        "id": "B1fgvVhN-xEh",
        "outputId": "0404803c-71cb-451e-bb7f-8d208c4bc2d1"
      },
      "outputs": [
        {
          "name": "stdout",
          "output_type": "stream",
          "text": [
            "It looks like you are running Gradio on a hosted a Jupyter notebook. For the Gradio app to work, sharing must be enabled. Automatically setting `share=True` (you can turn this off by setting `share=False` in `launch()` explicitly).\n",
            "\n",
            "Colab notebook detected. This cell will run indefinitely so that you can see errors and logs. To turn off, set debug=False in launch().\n",
            "* Running on public URL: https://45ecc8543d3e1a19a4.gradio.live\n",
            "\n",
            "This share link expires in 1 week. For free permanent hosting and GPU upgrades, run `gradio deploy` from the terminal in the working directory to deploy to Hugging Face Spaces (https://huggingface.co/spaces)\n"
          ]
        },
        {
          "data": {
            "text/html": [
              "<div><iframe src=\"https://45ecc8543d3e1a19a4.gradio.live\" width=\"100%\" height=\"500\" allow=\"autoplay; camera; microphone; clipboard-read; clipboard-write;\" frameborder=\"0\" allowfullscreen></iframe></div>"
            ],
            "text/plain": [
              "<IPython.core.display.HTML object>"
            ]
          },
          "metadata": {},
          "output_type": "display_data"
        },
        {
          "name": "stdout",
          "output_type": "stream",
          "text": [
            "\u001b[1m1/1\u001b[0m \u001b[32m━━━━━━━━━━━━━━━━━━━━\u001b[0m\u001b[37m\u001b[0m \u001b[1m0s\u001b[0m 96ms/step\n"
          ]
        }
      ],
      "source": [
        "# ✅ Launch Gradio app\n",
        "gr.Interface(\n",
        "    fn=process,\n",
        "    inputs=[\n",
        "        gr.Image(type=\"pil\", label=\"Upload Leaf Image\"),\n",
        "        gr.Audio(type=\"filepath\", label=\"Speak the problem\", interactive=True)\n",
        "\n",
        "    ],\n",
        "    outputs=\"text\",\n",
        "    title=\"🌿 AI Farmer Helper\",\n",
        "    description=\"Upload a tomato leaf image and speak the issue. The app gives smart advice using AI.\"\n",
        ").launch(debug=True)\n"
      ]
    },
    {
      "cell_type": "code",
      "execution_count": null,
      "metadata": {
        "id": "IgDWw4GpKvgo"
      },
      "outputs": [],
      "source": []
    },
    {
      "cell_type": "code",
      "execution_count": null,
      "metadata": {
        "id": "-Oqwj8A3Kvdn"
      },
      "outputs": [],
      "source": []
    },
    {
      "cell_type": "code",
      "execution_count": null,
      "metadata": {
        "id": "b4v7dsyFKvbB"
      },
      "outputs": [],
      "source": []
    },
    {
      "cell_type": "code",
      "execution_count": null,
      "metadata": {
        "id": "u4LcBONaKvYV"
      },
      "outputs": [],
      "source": []
    },
    {
      "cell_type": "code",
      "execution_count": null,
      "metadata": {
        "id": "XWJsejd8KvVP"
      },
      "outputs": [],
      "source": []
    },
    {
      "cell_type": "code",
      "execution_count": null,
      "metadata": {
        "id": "eGlpX7KOKvTT"
      },
      "outputs": [],
      "source": []
    },
    {
      "cell_type": "code",
      "execution_count": null,
      "metadata": {
        "id": "Jg1fmTAhKvPz"
      },
      "outputs": [],
      "source": []
    },
    {
      "cell_type": "code",
      "execution_count": null,
      "metadata": {
        "id": "IZRpxFQlKvM4"
      },
      "outputs": [],
      "source": []
    },
    {
      "cell_type": "code",
      "execution_count": null,
      "metadata": {
        "id": "iSg2LgfJKvKE"
      },
      "outputs": [],
      "source": []
    },
    {
      "cell_type": "code",
      "execution_count": null,
      "metadata": {
        "id": "8f1QaUa7KvGu"
      },
      "outputs": [],
      "source": []
    },
    {
      "cell_type": "code",
      "execution_count": null,
      "metadata": {
        "id": "uXrIgdRfKvEI"
      },
      "outputs": [],
      "source": []
    },
    {
      "cell_type": "code",
      "execution_count": null,
      "metadata": {
        "id": "L95RjounKvBv"
      },
      "outputs": [],
      "source": []
    },
    {
      "cell_type": "code",
      "execution_count": null,
      "metadata": {
        "id": "UoSal4CYKu-0"
      },
      "outputs": [],
      "source": []
    },
    {
      "cell_type": "code",
      "execution_count": null,
      "metadata": {
        "id": "HIgw55UdKu7v"
      },
      "outputs": [],
      "source": []
    },
    {
      "cell_type": "code",
      "execution_count": null,
      "metadata": {
        "id": "mJybzk-UKu5E"
      },
      "outputs": [],
      "source": []
    },
    {
      "cell_type": "code",
      "execution_count": null,
      "metadata": {
        "id": "Y_FOBPfuKu2w"
      },
      "outputs": [],
      "source": []
    },
    {
      "cell_type": "code",
      "execution_count": null,
      "metadata": {
        "id": "QYxfH_fHKu0L"
      },
      "outputs": [],
      "source": []
    },
    {
      "cell_type": "code",
      "execution_count": null,
      "metadata": {
        "id": "RPsV8mELKuw8"
      },
      "outputs": [],
      "source": []
    },
    {
      "cell_type": "code",
      "execution_count": null,
      "metadata": {
        "id": "cBqPWmRVKuuf"
      },
      "outputs": [],
      "source": []
    },
    {
      "cell_type": "code",
      "execution_count": null,
      "metadata": {
        "id": "2p4AG0qHKurl"
      },
      "outputs": [],
      "source": []
    },
    {
      "cell_type": "code",
      "execution_count": null,
      "metadata": {
        "id": "5L1ZmLBbKuo7"
      },
      "outputs": [],
      "source": []
    },
    {
      "cell_type": "code",
      "execution_count": null,
      "metadata": {
        "id": "6CBjSWL9KumD"
      },
      "outputs": [],
      "source": []
    },
    {
      "cell_type": "code",
      "execution_count": null,
      "metadata": {
        "id": "UMSqQRirKujg"
      },
      "outputs": [],
      "source": []
    },
    {
      "cell_type": "code",
      "execution_count": null,
      "metadata": {
        "id": "tZig4XZPKugj"
      },
      "outputs": [],
      "source": []
    },
    {
      "cell_type": "code",
      "execution_count": null,
      "metadata": {
        "id": "plWZyXy9Kud9"
      },
      "outputs": [],
      "source": []
    },
    {
      "cell_type": "code",
      "execution_count": null,
      "metadata": {
        "id": "kZ6N25_UKua7"
      },
      "outputs": [],
      "source": []
    },
    {
      "cell_type": "code",
      "execution_count": null,
      "metadata": {
        "id": "zxQHgc7EKuYg"
      },
      "outputs": [],
      "source": []
    },
    {
      "cell_type": "code",
      "execution_count": null,
      "metadata": {
        "id": "gTFmOYL4KuVr"
      },
      "outputs": [],
      "source": []
    },
    {
      "cell_type": "code",
      "execution_count": null,
      "metadata": {
        "id": "nMckG3OFKuS5"
      },
      "outputs": [],
      "source": []
    },
    {
      "cell_type": "code",
      "execution_count": null,
      "metadata": {
        "id": "_SuCIbcpKuQO"
      },
      "outputs": [],
      "source": []
    },
    {
      "cell_type": "code",
      "execution_count": null,
      "metadata": {
        "id": "anaYIOrIKuNf"
      },
      "outputs": [],
      "source": []
    },
    {
      "cell_type": "code",
      "execution_count": null,
      "metadata": {
        "id": "ZUvGrvIiKuK0"
      },
      "outputs": [],
      "source": []
    },
    {
      "cell_type": "code",
      "execution_count": null,
      "metadata": {
        "id": "nqvaEdE5KuH4"
      },
      "outputs": [],
      "source": []
    },
    {
      "cell_type": "code",
      "execution_count": null,
      "metadata": {
        "id": "Mz24h45FKuFT"
      },
      "outputs": [],
      "source": []
    },
    {
      "cell_type": "code",
      "execution_count": null,
      "metadata": {
        "id": "mkbikxARKuCi"
      },
      "outputs": [],
      "source": []
    },
    {
      "cell_type": "code",
      "execution_count": null,
      "metadata": {
        "id": "HX9J0yaQKt_s"
      },
      "outputs": [],
      "source": []
    },
    {
      "cell_type": "code",
      "execution_count": null,
      "metadata": {
        "id": "cEGLzF0bKt8q"
      },
      "outputs": [],
      "source": []
    },
    {
      "cell_type": "code",
      "execution_count": null,
      "metadata": {
        "id": "FHOCBYltKt5J"
      },
      "outputs": [],
      "source": []
    },
    {
      "cell_type": "code",
      "execution_count": null,
      "metadata": {
        "id": "UdwNeHg6Kt1a"
      },
      "outputs": [],
      "source": []
    }
  ],
  "metadata": {
    "colab": {
      "provenance": []
    },
    "kernelspec": {
      "display_name": "Python 3",
      "name": "python3"
    },
    "language_info": {
      "name": "python"
    }
  },
  "nbformat": 4,
  "nbformat_minor": 0
}